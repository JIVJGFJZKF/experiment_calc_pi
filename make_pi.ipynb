{
 "cells": [
  {
   "cell_type": "code",
   "execution_count": 1,
   "metadata": {},
   "outputs": [],
   "source": [
    "import datetime\n",
    "import math\n",
    "import pandas as pd"
   ]
  },
  {
   "cell_type": "code",
   "execution_count": 2,
   "metadata": {},
   "outputs": [],
   "source": [
    "val_seed = 5532\n",
    "num_darts = [10**2,10**3,10**4,10**5,10**6,10**7]\n",
    "val_max = max(num_darts)"
   ]
  },
  {
   "cell_type": "code",
   "execution_count": 3,
   "metadata": {},
   "outputs": [
    {
     "name": "stdout",
     "output_type": "stream",
     "text": [
      "For reference, Python's value of pi = 3.141592653589793\n"
     ]
    }
   ],
   "source": [
    "print('For reference, Python\\'s value of pi = '+str(math.pi))"
   ]
  },
  {
   "cell_type": "markdown",
   "metadata": {},
   "source": [
    "<img src='./MonteCarloApproach.png'>\n",
    "From UC Berkeley"
   ]
  },
  {
   "cell_type": "markdown",
   "metadata": {},
   "source": [
    "# Using Numpy"
   ]
  },
  {
   "cell_type": "code",
   "execution_count": 4,
   "metadata": {},
   "outputs": [],
   "source": [
    "import numpy as np\n",
    "from operator import add"
   ]
  },
  {
   "cell_type": "code",
   "execution_count": 5,
   "metadata": {},
   "outputs": [],
   "source": [
    "def get_pi_numpy(val_size,val_max,val_seed=val_seed):\n",
    "    if(val_size <= val_max):\n",
    "        time_start = datetime.datetime.now()\n",
    "        np.random.seed(val_seed)\n",
    "        x = np.random.random_sample(size=val_size)\n",
    "        y = np.random.random_sample(size=val_size)\n",
    "        x_2 = [i**2 for i in x]\n",
    "        y_2 = [j**2 for j in y]\n",
    "        line_len = list(map(add,x_2,y_2))\n",
    "        less_than_1 = len([1 for i in line_len if i < 1])\n",
    "        tmp_pi = 4*(less_than_1/val_size)\n",
    "        time_end = datetime.datetime.now()\n",
    "        total_s = (time_end-time_start).total_seconds()\n",
    "        print('Calc. value pi = '+str(tmp_pi)+'; sample size = '+str(val_size)+' ('+str(100*round(val_size/val_max,5))+'% of total); took '+str(total_s)+' secs.')\n",
    "    return(pd.Series([tmp_pi,total_s]))"
   ]
  },
  {
   "cell_type": "code",
   "execution_count": 6,
   "metadata": {},
   "outputs": [
    {
     "name": "stdout",
     "output_type": "stream",
     "text": [
      "Calc. value pi = 3.16; sample size = 100 (0.001% of total); took 0.000879 secs.\n",
      "Calc. value pi = 3.164; sample size = 1000 (0.01% of total); took 0.003307 secs.\n",
      "Calc. value pi = 3.1436; sample size = 10000 (0.1% of total); took 0.017355 secs.\n",
      "Calc. value pi = 3.1508; sample size = 100000 (1.0% of total); took 0.140146 secs.\n",
      "Calc. value pi = 3.14234; sample size = 1000000 (10.0% of total); took 1.395011 secs.\n",
      "Calc. value pi = 3.14151; sample size = 10000000 (100.0% of total); took 15.318113 secs.\n",
      "CPU times: user 17.7 s, sys: 1.02 s, total: 18.7 s\n",
      "Wall time: 19.1 s\n"
     ]
    }
   ],
   "source": [
    "%%time\n",
    "pi_from_numpy = [get_pi_numpy(val_size=x,val_max=val_max) for x in num_darts]\n",
    "df_pi_from_numpy = pd.DataFrame(pi_from_numpy)\n",
    "df_pi_from_numpy.columns=['EstPi','Time']\n",
    "df_pi_from_numpy['Error'] = math.pi-df_pi_from_numpy['EstPi']\n",
    "df_pi_from_numpy['SampleSize'] = num_darts\n",
    "df_pi_from_numpy['Src'] = 'Numpy'"
   ]
  },
  {
   "cell_type": "code",
   "execution_count": null,
   "metadata": {},
   "outputs": [],
   "source": []
  },
  {
   "cell_type": "markdown",
   "metadata": {},
   "source": [
    "# Using Pandas"
   ]
  },
  {
   "cell_type": "code",
   "execution_count": 7,
   "metadata": {},
   "outputs": [],
   "source": [
    "def get_pi_df(val_size,val_max,val_seed=val_seed):\n",
    "    if(val_size <= val_max):\n",
    "        time_start = datetime.datetime.now()\n",
    "        np.random.seed(val_seed)\n",
    "        df = pd.DataFrame({'x':np.random.random_sample(size=val_size),'y':np.random.random_sample(size=val_size)})\n",
    "        df['x_2'] = df['x']**2\n",
    "        df['y_2'] = df['y']**2\n",
    "        df['line_len'] = df['x_2']+df['y_2']\n",
    "        df['less_than_1'] = [1 if x < 1 else 0 for x in df['line_len']]\n",
    "        tmp_pi = 4*(df['less_than_1'].sum()/val_size)\n",
    "        time_end = datetime.datetime.now()\n",
    "        total_s = (time_end-time_start).total_seconds()\n",
    "        print('Calc. value pi = '+str(tmp_pi)+'; sample size = '+str(val_size)+' ('+str(100*round(val_size/val_max,5))+'% of total); took '+str(total_s)+' secs.')\n",
    "    return(pd.Series([tmp_pi,total_s]))"
   ]
  },
  {
   "cell_type": "code",
   "execution_count": 8,
   "metadata": {},
   "outputs": [
    {
     "name": "stdout",
     "output_type": "stream",
     "text": [
      "Calc. value pi = 3.16; sample size = 100 (0.001% of total); took 0.009588 secs.\n",
      "Calc. value pi = 3.164; sample size = 1000 (0.01% of total); took 0.004938 secs.\n",
      "Calc. value pi = 3.1436; sample size = 10000 (0.1% of total); took 0.01766 secs.\n",
      "Calc. value pi = 3.1508; sample size = 100000 (1.0% of total); took 0.043365 secs.\n",
      "Calc. value pi = 3.14234; sample size = 1000000 (10.0% of total); took 0.387456 secs.\n",
      "Calc. value pi = 3.14151; sample size = 10000000 (100.0% of total); took 5.265371 secs.\n",
      "CPU times: user 5.43 s, sys: 1.34 s, total: 6.77 s\n",
      "Wall time: 5.79 s\n"
     ]
    }
   ],
   "source": [
    "%%time\n",
    "pi_from_df = [get_pi_df(val_size=x,val_max=val_max) for x in num_darts]\n",
    "df_pi_from_df = pd.DataFrame(pi_from_df)\n",
    "df_pi_from_df.columns=['EstPi','Time']\n",
    "df_pi_from_df['Error'] = math.pi-df_pi_from_df['EstPi']\n",
    "df_pi_from_df['SampleSize'] = num_darts\n",
    "df_pi_from_df['Src'] = 'Pandas'"
   ]
  },
  {
   "cell_type": "code",
   "execution_count": null,
   "metadata": {},
   "outputs": [],
   "source": []
  },
  {
   "cell_type": "markdown",
   "metadata": {},
   "source": [
    "# Using Dask"
   ]
  },
  {
   "cell_type": "code",
   "execution_count": null,
   "metadata": {},
   "outputs": [],
   "source": [
    "from dask.distributed import Client, progress\n",
    "from dask import dataframe as dd "
   ]
  },
  {
   "cell_type": "code",
   "execution_count": null,
   "metadata": {},
   "outputs": [],
   "source": [
    "client = Client(processes=False, threads_per_worker=4, n_workers=1, memory_limit='2GB')\n",
    "client"
   ]
  },
  {
   "cell_type": "code",
   "execution_count": null,
   "metadata": {},
   "outputs": [],
   "source": [
    "ddf = dd.from_pandas(df, npartitions=4)"
   ]
  },
  {
   "cell_type": "code",
   "execution_count": null,
   "metadata": {},
   "outputs": [],
   "source": [
    "type(ddf)"
   ]
  },
  {
   "cell_type": "code",
   "execution_count": null,
   "metadata": {},
   "outputs": [],
   "source": [
    "%%time\n",
    "pi_from_ddf = []\n",
    "for i in num_darts:\n",
    "    if(i <= val_max):\n",
    "        time_start = datetime.datetime.now()\n",
    "        np.random.seed(val_seed)\n",
    "        ddf_sample = ddf['less_than_1'].sample(n=i,replace=False)\n",
    "        tmp_pi = 4*(sum(ddf_sample)/i)\n",
    "        time_end = datetime.datetime.now()\n",
    "        total_s = (time_end-time_start).total_seconds()\n",
    "        print('Calc. value pi = '+str(tmp_pi)+'; sample size = '+str(i)+' ('+str(100*round(i/val_max,5))+'% of total); took '+str(total_s)+' secs.')\n",
    "        pi_from_ddf.append(tmp_pi)"
   ]
  },
  {
   "cell_type": "code",
   "execution_count": null,
   "metadata": {},
   "outputs": [],
   "source": []
  },
  {
   "cell_type": "markdown",
   "metadata": {},
   "source": [
    "# Analysis"
   ]
  },
  {
   "cell_type": "code",
   "execution_count": 9,
   "metadata": {},
   "outputs": [],
   "source": [
    "df_all = pd.concat([df_pi_from_df,df_pi_from_numpy])\n",
    "df_all['ErrorMag'] = df_all['Error'].abs()"
   ]
  },
  {
   "cell_type": "code",
   "execution_count": 10,
   "metadata": {},
   "outputs": [
    {
     "data": {
      "text/html": [
       "<div>\n",
       "<style scoped>\n",
       "    .dataframe tbody tr th:only-of-type {\n",
       "        vertical-align: middle;\n",
       "    }\n",
       "\n",
       "    .dataframe tbody tr th {\n",
       "        vertical-align: top;\n",
       "    }\n",
       "\n",
       "    .dataframe thead th {\n",
       "        text-align: right;\n",
       "    }\n",
       "</style>\n",
       "<table border=\"1\" class=\"dataframe\">\n",
       "  <thead>\n",
       "    <tr style=\"text-align: right;\">\n",
       "      <th></th>\n",
       "      <th>EstPi</th>\n",
       "      <th>Time</th>\n",
       "      <th>Error</th>\n",
       "      <th>SampleSize</th>\n",
       "      <th>Src</th>\n",
       "      <th>ErrorMag</th>\n",
       "    </tr>\n",
       "  </thead>\n",
       "  <tbody>\n",
       "    <tr>\n",
       "      <th>5</th>\n",
       "      <td>3.14151</td>\n",
       "      <td>5.265371</td>\n",
       "      <td>0.000083</td>\n",
       "      <td>10000000</td>\n",
       "      <td>Pandas</td>\n",
       "      <td>0.000083</td>\n",
       "    </tr>\n",
       "    <tr>\n",
       "      <th>5</th>\n",
       "      <td>3.14151</td>\n",
       "      <td>15.318113</td>\n",
       "      <td>0.000083</td>\n",
       "      <td>10000000</td>\n",
       "      <td>Numpy</td>\n",
       "      <td>0.000083</td>\n",
       "    </tr>\n",
       "    <tr>\n",
       "      <th>4</th>\n",
       "      <td>3.14234</td>\n",
       "      <td>0.387456</td>\n",
       "      <td>-0.000747</td>\n",
       "      <td>1000000</td>\n",
       "      <td>Pandas</td>\n",
       "      <td>0.000747</td>\n",
       "    </tr>\n",
       "    <tr>\n",
       "      <th>4</th>\n",
       "      <td>3.14234</td>\n",
       "      <td>1.395011</td>\n",
       "      <td>-0.000747</td>\n",
       "      <td>1000000</td>\n",
       "      <td>Numpy</td>\n",
       "      <td>0.000747</td>\n",
       "    </tr>\n",
       "    <tr>\n",
       "      <th>2</th>\n",
       "      <td>3.14360</td>\n",
       "      <td>0.017355</td>\n",
       "      <td>-0.002007</td>\n",
       "      <td>10000</td>\n",
       "      <td>Numpy</td>\n",
       "      <td>0.002007</td>\n",
       "    </tr>\n",
       "    <tr>\n",
       "      <th>2</th>\n",
       "      <td>3.14360</td>\n",
       "      <td>0.017660</td>\n",
       "      <td>-0.002007</td>\n",
       "      <td>10000</td>\n",
       "      <td>Pandas</td>\n",
       "      <td>0.002007</td>\n",
       "    </tr>\n",
       "    <tr>\n",
       "      <th>3</th>\n",
       "      <td>3.15080</td>\n",
       "      <td>0.043365</td>\n",
       "      <td>-0.009207</td>\n",
       "      <td>100000</td>\n",
       "      <td>Pandas</td>\n",
       "      <td>0.009207</td>\n",
       "    </tr>\n",
       "    <tr>\n",
       "      <th>3</th>\n",
       "      <td>3.15080</td>\n",
       "      <td>0.140146</td>\n",
       "      <td>-0.009207</td>\n",
       "      <td>100000</td>\n",
       "      <td>Numpy</td>\n",
       "      <td>0.009207</td>\n",
       "    </tr>\n",
       "    <tr>\n",
       "      <th>0</th>\n",
       "      <td>3.16000</td>\n",
       "      <td>0.000879</td>\n",
       "      <td>-0.018407</td>\n",
       "      <td>100</td>\n",
       "      <td>Numpy</td>\n",
       "      <td>0.018407</td>\n",
       "    </tr>\n",
       "    <tr>\n",
       "      <th>0</th>\n",
       "      <td>3.16000</td>\n",
       "      <td>0.009588</td>\n",
       "      <td>-0.018407</td>\n",
       "      <td>100</td>\n",
       "      <td>Pandas</td>\n",
       "      <td>0.018407</td>\n",
       "    </tr>\n",
       "    <tr>\n",
       "      <th>1</th>\n",
       "      <td>3.16400</td>\n",
       "      <td>0.003307</td>\n",
       "      <td>-0.022407</td>\n",
       "      <td>1000</td>\n",
       "      <td>Numpy</td>\n",
       "      <td>0.022407</td>\n",
       "    </tr>\n",
       "    <tr>\n",
       "      <th>1</th>\n",
       "      <td>3.16400</td>\n",
       "      <td>0.004938</td>\n",
       "      <td>-0.022407</td>\n",
       "      <td>1000</td>\n",
       "      <td>Pandas</td>\n",
       "      <td>0.022407</td>\n",
       "    </tr>\n",
       "  </tbody>\n",
       "</table>\n",
       "</div>"
      ],
      "text/plain": [
       "     EstPi       Time     Error  SampleSize     Src  ErrorMag\n",
       "5  3.14151   5.265371  0.000083    10000000  Pandas  0.000083\n",
       "5  3.14151  15.318113  0.000083    10000000   Numpy  0.000083\n",
       "4  3.14234   0.387456 -0.000747     1000000  Pandas  0.000747\n",
       "4  3.14234   1.395011 -0.000747     1000000   Numpy  0.000747\n",
       "2  3.14360   0.017355 -0.002007       10000   Numpy  0.002007\n",
       "2  3.14360   0.017660 -0.002007       10000  Pandas  0.002007\n",
       "3  3.15080   0.043365 -0.009207      100000  Pandas  0.009207\n",
       "3  3.15080   0.140146 -0.009207      100000   Numpy  0.009207\n",
       "0  3.16000   0.000879 -0.018407         100   Numpy  0.018407\n",
       "0  3.16000   0.009588 -0.018407         100  Pandas  0.018407\n",
       "1  3.16400   0.003307 -0.022407        1000   Numpy  0.022407\n",
       "1  3.16400   0.004938 -0.022407        1000  Pandas  0.022407"
      ]
     },
     "execution_count": 10,
     "metadata": {},
     "output_type": "execute_result"
    }
   ],
   "source": [
    "df_all.sort_values(by=['ErrorMag','Time'])"
   ]
  },
  {
   "cell_type": "code",
   "execution_count": 12,
   "metadata": {},
   "outputs": [
    {
     "data": {
      "text/plain": [
       "<matplotlib.axes._subplots.AxesSubplot at 0x116b3eb00>"
      ]
     },
     "execution_count": 12,
     "metadata": {},
     "output_type": "execute_result"
    },
    {
     "data": {
      "image/png": "[encoded data removed]",
      "text/plain": [
       "<Figure size 864x504 with 1 Axes>"
      ]
     },
     "metadata": {
      "needs_background": "light"
     },
     "output_type": "display_data"
    }
   ],
   "source": [
    "df_all.plot.scatter(x='SampleSize',y='ErrorMag',figsize=(12,7))"
   ]
  },
  {
   "cell_type": "code",
   "execution_count": 13,
   "metadata": {},
   "outputs": [
    {
     "data": {
      "text/plain": [
       "<matplotlib.axes._subplots.AxesSubplot at 0x116e95710>"
      ]
     },
     "execution_count": 13,
     "metadata": {},
     "output_type": "execute_result"
    },
    {
     "data": {
      "image/png": "[encoded data removed]",
      "text/plain": [
       "<Figure size 864x504 with 1 Axes>"
      ]
     },
     "metadata": {
      "needs_background": "light"
     },
     "output_type": "display_data"
    }
   ],
   "source": [
    "df_all.plot.scatter(x='SampleSize',y='Time',figsize=(12,7))"
   ]
  },
  {
   "cell_type": "code",
   "execution_count": 14,
   "metadata": {},
   "outputs": [
    {
     "data": {
      "text/plain": [
       "<matplotlib.axes._subplots.AxesSubplot at 0x116fe5048>"
      ]
     },
     "execution_count": 14,
     "metadata": {},
     "output_type": "execute_result"
    },
    {
     "data": {
      "image/png": "[encoded data removed]",
      "text/plain": [
       "<Figure size 864x504 with 1 Axes>"
      ]
     },
     "metadata": {
      "needs_background": "light"
     },
     "output_type": "display_data"
    }
   ],
   "source": [
    "df_all.plot.scatter(x='Time',y='ErrorMag',figsize=(12,7))"
   ]
  },
  {
   "cell_type": "code",
   "execution_count": null,
   "metadata": {},
   "outputs": [],
   "source": []
  }
 ],
 "metadata": {
  "kernelspec": {
   "display_name": "Python [conda env:Env_Anaconda]",
   "language": "python",
   "name": "conda-env-Env_Anaconda-py"
  },
  "language_info": {
   "codemirror_mode": {
    "name": "ipython",
    "version": 3
   },
   "file_extension": ".py",
   "mimetype": "text/x-python",
   "name": "python",
   "nbconvert_exporter": "python",
   "pygments_lexer": "ipython3",
   "version": "3.6.7"
  }
 },
 "nbformat": 4,
 "nbformat_minor": 2
}
