{
 "cells": [
  {
   "cell_type": "code",
   "execution_count": 1,
   "metadata": {},
   "outputs": [],
   "source": [
    "import datetime"
   ]
  },
  {
   "cell_type": "code",
   "execution_count": 2,
   "metadata": {},
   "outputs": [],
   "source": [
    "val_seed = 5532\n",
    "num_darts = [10**2,10**3,10**4,10**5,10**6,10**7]\n",
    "val_max = max(num_darts)"
   ]
  },
  {
   "cell_type": "markdown",
   "metadata": {},
   "source": [
    "<img src='./MonteCarloApproach.png'>\n",
    "From UC Berkeley"
   ]
  },
  {
   "cell_type": "markdown",
   "metadata": {},
   "source": [
    "# Using Numpy"
   ]
  },
  {
   "cell_type": "code",
   "execution_count": 3,
   "metadata": {},
   "outputs": [],
   "source": [
    "import numpy as np\n",
    "from operator import add"
   ]
  },
  {
   "cell_type": "code",
   "execution_count": 4,
   "metadata": {},
   "outputs": [],
   "source": [
    "def get_pi(val_size,val_max,val_seed=val_seed):\n",
    "    if(val_size <= val_max):\n",
    "        time_start = datetime.datetime.now()\n",
    "        np.random.seed(val_seed)\n",
    "        x = np.random.random_sample(size=val_size)\n",
    "        y = np.random.random_sample(size=val_size)\n",
    "        x_2 = [i**2 for i in x]\n",
    "        y_2 = [j**2 for j in y]\n",
    "        line_len = list(map(add,x_2,y_2))\n",
    "        less_than_1 = len([1 for i in line_len if i < 1])\n",
    "        tmp_pi = 4*(less_than_1/val_size)\n",
    "        time_end = datetime.datetime.now()\n",
    "        total_s = (time_end-time_start).total_seconds()\n",
    "        print('Calc. value pi = '+str(tmp_pi)+'; sample size = '+str(val_size)+' ('+str(100*round(val_size/val_max,5))+'% of total); took '+str(total_s)+' secs.')\n",
    "    return(tmp_pi)"
   ]
  },
  {
   "cell_type": "code",
   "execution_count": 5,
   "metadata": {},
   "outputs": [
    {
     "name": "stdout",
     "output_type": "stream",
     "text": [
      "Calc. value pi = 3.16; sample size = 100 (0.001% of total); took 0.000228 secs.\n",
      "Calc. value pi = 3.164; sample size = 1000 (0.01% of total); took 0.002421 secs.\n",
      "Calc. value pi = 3.1436; sample size = 10000 (0.1% of total); took 0.01886 secs.\n",
      "Calc. value pi = 3.1508; sample size = 100000 (1.0% of total); took 0.105436 secs.\n",
      "Calc. value pi = 3.14234; sample size = 1000000 (10.0% of total); took 1.327553 secs.\n",
      "Calc. value pi = 3.14151; sample size = 10000000 (100.0% of total); took 11.458188 secs.\n",
      "[3.16, 3.164, 3.1436, 3.1508, 3.14234, 3.14151]\n",
      "CPU times: user 12.5 s, sys: 886 ms, total: 13.4 s\n",
      "Wall time: 13.6 s\n"
     ]
    }
   ],
   "source": [
    "%%time\n",
    "pi_from_numpy = [get_pi(val_size=x,val_max=val_max) for x in num_darts]\n",
    "print(pi_from_numpy)"
   ]
  },
  {
   "cell_type": "code",
   "execution_count": null,
   "metadata": {},
   "outputs": [],
   "source": []
  },
  {
   "cell_type": "markdown",
   "metadata": {},
   "source": [
    "# Using Pandas"
   ]
  },
  {
   "cell_type": "code",
   "execution_count": 6,
   "metadata": {},
   "outputs": [],
   "source": [
    "import pandas as pd"
   ]
  },
  {
   "cell_type": "code",
   "execution_count": 7,
   "metadata": {},
   "outputs": [
    {
     "name": "stdout",
     "output_type": "stream",
     "text": [
      "CPU times: user 3.67 s, sys: 679 ms, total: 4.35 s\n",
      "Wall time: 3.64 s\n"
     ]
    }
   ],
   "source": [
    "%%time\n",
    "np.random.seed(val_seed)\n",
    "x = np.random.random_sample(size=val_max)\n",
    "y = np.random.random_sample(size=val_max)\n",
    "df = pd.DataFrame({'x':x,'y':y})\n",
    "df['x_2'] = df['x']**2\n",
    "df['y_2'] = df['y']**2\n",
    "df['line_len'] = df['x_2']+df['y_2']\n",
    "df['less_than_1'] = [1 if x < 1 else 0 for x in df['line_len']]"
   ]
  },
  {
   "cell_type": "code",
   "execution_count": 8,
   "metadata": {},
   "outputs": [
    {
     "name": "stdout",
     "output_type": "stream",
     "text": [
      "Calc. value pi = 3.12; sample size = 100 (0.001% of total); took 0.481703 secs.\n",
      "Calc. value pi = 3.188; sample size = 1000 (0.01% of total); took 0.457466 secs.\n",
      "Calc. value pi = 3.1536; sample size = 10000 (0.1% of total); took 0.495009 secs.\n",
      "Calc. value pi = 3.14416; sample size = 100000 (1.0% of total); took 0.499252 secs.\n",
      "Calc. value pi = 3.14194; sample size = 1000000 (10.0% of total); took 0.54777 secs.\n",
      "Calc. value pi = 3.14151; sample size = 10000000 (100.0% of total); took 1.564854 secs.\n",
      "CPU times: user 3.84 s, sys: 145 ms, total: 3.99 s\n",
      "Wall time: 4.05 s\n"
     ]
    }
   ],
   "source": [
    "%%time\n",
    "pi_from_df = []\n",
    "for i in num_darts:\n",
    "    if(i <= val_max):\n",
    "        time_start = datetime.datetime.now()\n",
    "        np.random.seed(val_seed)\n",
    "        df_sample = df['less_than_1'].sample(n=i,replace=False)\n",
    "        tmp_pi = 4*(sum(df_sample)/i)\n",
    "        time_end = datetime.datetime.now()\n",
    "        total_s = (time_end-time_start).total_seconds()\n",
    "        print('Calc. value pi = '+str(tmp_pi)+'; sample size = '+str(i)+' ('+str(100*round(i/val_max,5))+'% of total); took '+str(total_s)+' secs.')\n",
    "        pi_from_df.append(tmp_pi)"
   ]
  },
  {
   "cell_type": "code",
   "execution_count": null,
   "metadata": {},
   "outputs": [],
   "source": []
  },
  {
   "cell_type": "markdown",
   "metadata": {},
   "source": [
    "# Using Dask"
   ]
  },
  {
   "cell_type": "code",
   "execution_count": null,
   "metadata": {},
   "outputs": [],
   "source": [
    "from dask.distributed import Client, progress\n",
    "from dask import dataframe as dd "
   ]
  },
  {
   "cell_type": "code",
   "execution_count": null,
   "metadata": {},
   "outputs": [],
   "source": [
    "client = Client(processes=False, threads_per_worker=4, n_workers=1, memory_limit='2GB')\n",
    "client"
   ]
  },
  {
   "cell_type": "code",
   "execution_count": null,
   "metadata": {},
   "outputs": [],
   "source": [
    "ddf = dd.from_pandas(df, npartitions=4)"
   ]
  },
  {
   "cell_type": "code",
   "execution_count": null,
   "metadata": {},
   "outputs": [],
   "source": [
    "type(ddf)"
   ]
  },
  {
   "cell_type": "code",
   "execution_count": null,
   "metadata": {},
   "outputs": [],
   "source": [
    "%%time\n",
    "pi_from_ddf = []\n",
    "for i in num_darts:\n",
    "    if(i <= val_max):\n",
    "        time_start = datetime.datetime.now()\n",
    "        np.random.seed(val_seed)\n",
    "        ddf_sample = ddf['less_than_1'].sample(n=i,replace=False)\n",
    "        tmp_pi = 4*(sum(ddf_sample)/i)\n",
    "        time_end = datetime.datetime.now()\n",
    "        total_s = (time_end-time_start).total_seconds()\n",
    "        print('Calc. value pi = '+str(tmp_pi)+'; sample size = '+str(i)+' ('+str(100*round(i/val_max,5))+'% of total); took '+str(total_s)+' secs.')\n",
    "        pi_from_ddf.append(tmp_pi)"
   ]
  },
  {
   "cell_type": "code",
   "execution_count": null,
   "metadata": {},
   "outputs": [],
   "source": []
  }
 ],
 "metadata": {
  "kernelspec": {
   "display_name": "Python [conda env:Env_Anaconda]",
   "language": "python",
   "name": "conda-env-Env_Anaconda-py"
  },
  "language_info": {
   "codemirror_mode": {
    "name": "ipython",
    "version": 3
   },
   "file_extension": ".py",
   "mimetype": "text/x-python",
   "name": "python",
   "nbconvert_exporter": "python",
   "pygments_lexer": "ipython3",
   "version": "3.6.7"
  }
 },
 "nbformat": 4,
 "nbformat_minor": 2
}
