{
 "cells": [
  {
   "cell_type": "code",
   "execution_count": 1,
   "metadata": {},
   "outputs": [],
   "source": [
    "import datetime\n",
    "import numpy as np\n",
    "import pandas as pd"
   ]
  },
  {
   "cell_type": "code",
   "execution_count": 2,
   "metadata": {},
   "outputs": [
    {
     "name": "stdout",
     "output_type": "stream",
     "text": [
      "100,000,000\n"
     ]
    }
   ],
   "source": [
    "val_seed = 5532\n",
    "num_darts = [10**2,10**3,10**4,10**5,10**6,10**7,10**8]\n",
    "val_max = max(num_darts)\n",
    "print('{:,}'.format(val_max))"
   ]
  },
  {
   "cell_type": "code",
   "execution_count": 3,
   "metadata": {},
   "outputs": [
    {
     "name": "stdout",
     "output_type": "stream",
     "text": [
      "For reference, Python's value of pi = 3.141592653589793\n"
     ]
    }
   ],
   "source": [
    "print('For reference, Python\\'s value of pi = '+str(np.pi))"
   ]
  },
  {
   "cell_type": "markdown",
   "metadata": {},
   "source": [
    "<img src='./Img_MonteCarloApproach.png'>\n",
    "From UC Berkeley"
   ]
  },
  {
   "cell_type": "markdown",
   "metadata": {},
   "source": [
    "# Using Numpy"
   ]
  },
  {
   "cell_type": "code",
   "execution_count": 4,
   "metadata": {},
   "outputs": [],
   "source": [
    "from operator import add"
   ]
  },
  {
   "cell_type": "code",
   "execution_count": 5,
   "metadata": {},
   "outputs": [],
   "source": [
    "def get_pi_numpy(val_size,val_max,val_seed=val_seed):\n",
    "    if(val_size <= val_max):\n",
    "        time_start = datetime.datetime.now()\n",
    "        np.random.seed(val_seed)\n",
    "        x = np.random.random_sample(size=val_size)\n",
    "        y = np.random.random_sample(size=val_size)\n",
    "        x_2 = [i**2 for i in x]\n",
    "        y_2 = [j**2 for j in y]\n",
    "        line_len = list(map(add,x_2,y_2))\n",
    "        less_than_1 = len([1 for i in line_len if i < 1])\n",
    "        tmp_pi = 4*(less_than_1/val_size)\n",
    "        time_end = datetime.datetime.now()\n",
    "        total_s = (time_end-time_start).total_seconds()\n",
    "        print('Calc. value pi = '+str(tmp_pi)+'; sample size = '+str('{:,}'.format(val_size))+' ('+str(100*round(val_size/val_max,5))+'% of total); took '+str(total_s)+' secs.')\n",
    "    return(pd.Series([tmp_pi,total_s]))"
   ]
  },
  {
   "cell_type": "code",
   "execution_count": 6,
   "metadata": {},
   "outputs": [
    {
     "name": "stdout",
     "output_type": "stream",
     "text": [
      "Calc. value pi = 3.16; sample size = 100 (0.0% of total); took 0.000199 secs.\n",
      "Calc. value pi = 3.164; sample size = 1,000 (0.001% of total); took 0.00204 secs.\n",
      "Calc. value pi = 3.1436; sample size = 10,000 (0.01% of total); took 0.016858 secs.\n",
      "Calc. value pi = 3.1508; sample size = 100,000 (0.1% of total); took 0.163332 secs.\n",
      "Calc. value pi = 3.14234; sample size = 1,000,000 (1.0% of total); took 1.341239 secs.\n",
      "Calc. value pi = 3.14151; sample size = 10,000,000 (10.0% of total); took 15.583332 secs.\n",
      "Calc. value pi = 3.1416334; sample size = 100,000,000 (100.0% of total); took 169.941635 secs.\n",
      "CPU times: user 2min 57s, sys: 22.4 s, total: 3min 19s\n",
      "Wall time: 3min 32s\n"
     ]
    }
   ],
   "source": [
    "%%time\n",
    "pi_from_numpy = [get_pi_numpy(val_size=x,val_max=val_max) for x in num_darts]\n",
    "df_pi_from_numpy = pd.DataFrame(pi_from_numpy)\n",
    "df_pi_from_numpy.columns=['EstPi','Time']\n",
    "df_pi_from_numpy['Error'] = np.pi-df_pi_from_numpy['EstPi']\n",
    "df_pi_from_numpy['SampleSize'] = num_darts\n",
    "df_pi_from_numpy['Src'] = 'Numpy'"
   ]
  },
  {
   "cell_type": "code",
   "execution_count": null,
   "metadata": {},
   "outputs": [],
   "source": []
  },
  {
   "cell_type": "markdown",
   "metadata": {},
   "source": [
    "# Using Pandas"
   ]
  },
  {
   "cell_type": "code",
   "execution_count": 7,
   "metadata": {},
   "outputs": [],
   "source": [
    "def get_pi_pandas(val_size,val_max,val_seed=val_seed):\n",
    "    if(val_size <= val_max):\n",
    "        time_start = datetime.datetime.now()\n",
    "        np.random.seed(val_seed)\n",
    "        df = pd.DataFrame({'x':np.random.random_sample(size=val_size),'y':np.random.random_sample(size=val_size)})\n",
    "        df['x_2'] = df['x']**2\n",
    "        df['y_2'] = df['y']**2\n",
    "        df['line_len'] = df['x_2']+df['y_2']\n",
    "        df['less_than_1'] = [1 if x < 1 else 0 for x in df['line_len']]\n",
    "        tmp_pi = 4*(df['less_than_1'].sum()/val_size)\n",
    "        time_end = datetime.datetime.now()\n",
    "        total_s = (time_end-time_start).total_seconds()\n",
    "        print('Calc. value pi = '+str(tmp_pi)+'; sample size = '+str('{:,}'.format(val_size))+' ('+str(100*round(val_size/val_max,5))+'% of total); took '+str(total_s)+' secs.')\n",
    "    return(pd.Series([tmp_pi,total_s]))"
   ]
  },
  {
   "cell_type": "code",
   "execution_count": 8,
   "metadata": {},
   "outputs": [
    {
     "name": "stdout",
     "output_type": "stream",
     "text": [
      "Calc. value pi = 3.16; sample size = 100 (0.0% of total); took 0.00655 secs.\n",
      "Calc. value pi = 3.164; sample size = 1,000 (0.001% of total); took 0.004276 secs.\n",
      "Calc. value pi = 3.1436; sample size = 10,000 (0.01% of total); took 0.013957 secs.\n",
      "Calc. value pi = 3.1508; sample size = 100,000 (0.1% of total); took 0.040937 secs.\n",
      "Calc. value pi = 3.14234; sample size = 1,000,000 (1.0% of total); took 0.373937 secs.\n",
      "Calc. value pi = 3.14151; sample size = 10,000,000 (10.0% of total); took 4.486182 secs.\n",
      "Calc. value pi = 3.1416334; sample size = 100,000,000 (100.0% of total); took 45.943903 secs.\n",
      "CPU times: user 45.7 s, sys: 11.1 s, total: 56.9 s\n",
      "Wall time: 51.3 s\n"
     ]
    }
   ],
   "source": [
    "%%time\n",
    "pi_from_pandas = [get_pi_pandas(val_size=x,val_max=val_max) for x in num_darts]\n",
    "df_pi_from_pandas = pd.DataFrame(pi_from_pandas)\n",
    "df_pi_from_pandas.columns=['EstPi','Time']\n",
    "df_pi_from_pandas['Error'] = np.pi-df_pi_from_pandas['EstPi']\n",
    "df_pi_from_pandas['SampleSize'] = num_darts\n",
    "df_pi_from_pandas['Src'] = 'Pandas'"
   ]
  },
  {
   "cell_type": "code",
   "execution_count": null,
   "metadata": {},
   "outputs": [],
   "source": []
  },
  {
   "cell_type": "markdown",
   "metadata": {},
   "source": [
    "# Using Dask"
   ]
  },
  {
   "cell_type": "code",
   "execution_count": 9,
   "metadata": {},
   "outputs": [],
   "source": [
    "from dask.distributed import Client, progress\n",
    "import dask.array as da"
   ]
  },
  {
   "cell_type": "code",
   "execution_count": 10,
   "metadata": {},
   "outputs": [
    {
     "data": {
      "text/html": [
       "<table style=\"border: 2px solid white;\">\n",
       "<tr>\n",
       "<td style=\"vertical-align: top; border: 0px solid white\">\n",
       "<h3>Client</h3>\n",
       "<ul>\n",
       "  <li><b>Scheduler: </b>inproc://192.168.1.3/36076/1\n",
       "  <li><b>Dashboard: </b><a href='http://localhost:8787/status' target='_blank'>http://localhost:8787/status</a>\n",
       "</ul>\n",
       "</td>\n",
       "<td style=\"vertical-align: top; border: 0px solid white\">\n",
       "<h3>Cluster</h3>\n",
       "<ul>\n",
       "  <li><b>Workers: </b>4</li>\n",
       "  <li><b>Cores: </b>8</li>\n",
       "  <li><b>Memory: </b>12.00 GB</li>\n",
       "</ul>\n",
       "</td>\n",
       "</tr>\n",
       "</table>"
      ],
      "text/plain": [
       "<Client: scheduler='inproc://192.168.1.3/36076/1' processes=4 cores=8>"
      ]
     },
     "execution_count": 10,
     "metadata": {},
     "output_type": "execute_result"
    }
   ],
   "source": [
    "client = Client(processes=False, threads_per_worker=2, n_workers=4, memory_limit='3GB')\n",
    "client"
   ]
  },
  {
   "cell_type": "code",
   "execution_count": 11,
   "metadata": {},
   "outputs": [],
   "source": [
    "def get_pi_dask(val_size,val_max,val_seed=val_seed):\n",
    "    if(val_size <= val_max):\n",
    "        time_start = datetime.datetime.now()\n",
    "        np.random.seed(val_seed)\n",
    "        x = da.random.random((val_size, 1), chunks=(val_size/10, 1))\n",
    "        y = da.random.random((val_size, 1), chunks=(val_size/10, 1))\n",
    "        x_2 = da.power(x,2)\n",
    "        y_2 = da.power(y,2)\n",
    "        line_len = da.add(x_2,y_2)\n",
    "        line_len.compute()\n",
    "        less_than_1 = line_len[line_len < 1].compute()\n",
    "        val_sum = len(less_than_1)\n",
    "        tmp_pi = 4*(val_sum/val_size)\n",
    "        time_end = datetime.datetime.now()\n",
    "        total_s = (time_end-time_start).total_seconds()\n",
    "        print('Calc. value pi = '+str(tmp_pi)+'; sample size = '+str('{:,}'.format(val_size))+' ('+str(100*round(val_size/val_max,5))+'% of total); took '+str(total_s)+' secs.')\n",
    "        del(x,y,x_2,y_2,line_len,less_than_1)\n",
    "    return(pd.Series([tmp_pi,total_s]))"
   ]
  },
  {
   "cell_type": "code",
   "execution_count": 12,
   "metadata": {},
   "outputs": [
    {
     "name": "stdout",
     "output_type": "stream",
     "text": [
      "Calc. value pi = 3.4; sample size = 100 (0.0% of total); took 0.246752 secs.\n",
      "Calc. value pi = 3.048; sample size = 1,000 (0.001% of total); took 0.222948 secs.\n",
      "Calc. value pi = 3.1128; sample size = 10,000 (0.01% of total); took 0.212762 secs.\n",
      "Calc. value pi = 3.13528; sample size = 100,000 (0.1% of total); took 0.218996 secs.\n",
      "Calc. value pi = 3.140548; sample size = 1,000,000 (1.0% of total); took 0.304152 secs.\n",
      "Calc. value pi = 3.1416568; sample size = 10,000,000 (10.0% of total); took 1.082 secs.\n"
     ]
    },
    {
     "name": "stderr",
     "output_type": "stream",
     "text": [
      "distributed.worker - WARNING - Memory use is high but worker has no data to store to disk.  Perhaps some other process is leaking memory?  Process memory: 1.81 GB -- Worker memory limit: 3.00 GB\n",
      "distributed.worker - WARNING - Worker is at 81% memory usage. Pausing worker.  Process memory: 2.54 GB -- Worker memory limit: 3.00 GB\n",
      "distributed.worker - WARNING - Worker is at 86% memory usage. Pausing worker.  Process memory: 2.65 GB -- Worker memory limit: 3.00 GB\n",
      "distributed.worker - WARNING - Worker is at 54% memory usage. Resuming worker. Process memory: 1.64 GB -- Worker memory limit: 3.00 GB\n",
      "distributed.worker - WARNING - Worker is at 55% memory usage. Resuming worker. Process memory: 1.66 GB -- Worker memory limit: 3.00 GB\n",
      "distributed.worker - WARNING - Memory use is high but worker has no data to store to disk.  Perhaps some other process is leaking memory?  Process memory: 2.28 GB -- Worker memory limit: 3.00 GB\n",
      "distributed.worker - WARNING - Memory use is high but worker has no data to store to disk.  Perhaps some other process is leaking memory?  Process memory: 2.28 GB -- Worker memory limit: 3.00 GB\n",
      "distributed.worker - WARNING - Memory use is high but worker has no data to store to disk.  Perhaps some other process is leaking memory?  Process memory: 2.29 GB -- Worker memory limit: 3.00 GB\n",
      "distributed.worker - WARNING - Memory use is high but worker has no data to store to disk.  Perhaps some other process is leaking memory?  Process memory: 2.29 GB -- Worker memory limit: 3.00 GB\n"
     ]
    },
    {
     "name": "stdout",
     "output_type": "stream",
     "text": [
      "Calc. value pi = 3.1417996; sample size = 100,000,000 (100.0% of total); took 18.954296 secs.\n",
      "CPU times: user 33.3 s, sys: 9.61 s, total: 42.9 s\n",
      "Wall time: 21.3 s\n"
     ]
    }
   ],
   "source": [
    "%%time\n",
    "pi_from_dask = [get_pi_dask(val_size=x,val_max=val_max) for x in num_darts]\n",
    "df_pi_from_dask = pd.DataFrame(pi_from_dask)\n",
    "df_pi_from_dask.columns=['EstPi','Time']\n",
    "df_pi_from_dask['Error'] = np.pi-df_pi_from_dask['EstPi']\n",
    "df_pi_from_dask['SampleSize'] = num_darts\n",
    "df_pi_from_dask['Src'] = 'Dask'"
   ]
  },
  {
   "cell_type": "markdown",
   "metadata": {},
   "source": [
    "A snapshot of the Dask dashboard during run time:\n",
    "<img src='./Img_DaskScreenshot.png'>"
   ]
  },
  {
   "cell_type": "markdown",
   "metadata": {},
   "source": [
    "# Analysis"
   ]
  },
  {
   "cell_type": "code",
   "execution_count": 13,
   "metadata": {},
   "outputs": [],
   "source": [
    "%matplotlib inline"
   ]
  },
  {
   "cell_type": "code",
   "execution_count": 14,
   "metadata": {},
   "outputs": [],
   "source": [
    "df_all = pd.concat([df_pi_from_pandas,df_pi_from_numpy,df_pi_from_dask])\n",
    "df_all['ErrorMag'] = df_all['Error'].abs()"
   ]
  },
  {
   "cell_type": "code",
   "execution_count": 15,
   "metadata": {},
   "outputs": [
    {
     "data": {
      "text/html": [
       "<div>\n",
       "<style scoped>\n",
       "    .dataframe tbody tr th:only-of-type {\n",
       "        vertical-align: middle;\n",
       "    }\n",
       "\n",
       "    .dataframe tbody tr th {\n",
       "        vertical-align: top;\n",
       "    }\n",
       "\n",
       "    .dataframe thead th {\n",
       "        text-align: right;\n",
       "    }\n",
       "</style>\n",
       "<table border=\"1\" class=\"dataframe\">\n",
       "  <thead>\n",
       "    <tr style=\"text-align: right;\">\n",
       "      <th></th>\n",
       "      <th>EstPi</th>\n",
       "      <th>Time</th>\n",
       "      <th>Error</th>\n",
       "      <th>SampleSize</th>\n",
       "      <th>Src</th>\n",
       "      <th>ErrorMag</th>\n",
       "    </tr>\n",
       "  </thead>\n",
       "  <tbody>\n",
       "    <tr>\n",
       "      <th>6</th>\n",
       "      <td>3.141633</td>\n",
       "      <td>45.943903</td>\n",
       "      <td>-0.000041</td>\n",
       "      <td>100000000</td>\n",
       "      <td>Pandas</td>\n",
       "      <td>0.000041</td>\n",
       "    </tr>\n",
       "    <tr>\n",
       "      <th>6</th>\n",
       "      <td>3.141633</td>\n",
       "      <td>169.941635</td>\n",
       "      <td>-0.000041</td>\n",
       "      <td>100000000</td>\n",
       "      <td>Numpy</td>\n",
       "      <td>0.000041</td>\n",
       "    </tr>\n",
       "    <tr>\n",
       "      <th>5</th>\n",
       "      <td>3.141657</td>\n",
       "      <td>1.082000</td>\n",
       "      <td>-0.000064</td>\n",
       "      <td>10000000</td>\n",
       "      <td>Dask</td>\n",
       "      <td>0.000064</td>\n",
       "    </tr>\n",
       "    <tr>\n",
       "      <th>5</th>\n",
       "      <td>3.141510</td>\n",
       "      <td>4.486182</td>\n",
       "      <td>0.000083</td>\n",
       "      <td>10000000</td>\n",
       "      <td>Pandas</td>\n",
       "      <td>0.000083</td>\n",
       "    </tr>\n",
       "    <tr>\n",
       "      <th>5</th>\n",
       "      <td>3.141510</td>\n",
       "      <td>15.583332</td>\n",
       "      <td>0.000083</td>\n",
       "      <td>10000000</td>\n",
       "      <td>Numpy</td>\n",
       "      <td>0.000083</td>\n",
       "    </tr>\n",
       "    <tr>\n",
       "      <th>6</th>\n",
       "      <td>3.141800</td>\n",
       "      <td>18.954296</td>\n",
       "      <td>-0.000207</td>\n",
       "      <td>100000000</td>\n",
       "      <td>Dask</td>\n",
       "      <td>0.000207</td>\n",
       "    </tr>\n",
       "    <tr>\n",
       "      <th>4</th>\n",
       "      <td>3.142340</td>\n",
       "      <td>0.373937</td>\n",
       "      <td>-0.000747</td>\n",
       "      <td>1000000</td>\n",
       "      <td>Pandas</td>\n",
       "      <td>0.000747</td>\n",
       "    </tr>\n",
       "    <tr>\n",
       "      <th>4</th>\n",
       "      <td>3.142340</td>\n",
       "      <td>1.341239</td>\n",
       "      <td>-0.000747</td>\n",
       "      <td>1000000</td>\n",
       "      <td>Numpy</td>\n",
       "      <td>0.000747</td>\n",
       "    </tr>\n",
       "    <tr>\n",
       "      <th>4</th>\n",
       "      <td>3.140548</td>\n",
       "      <td>0.304152</td>\n",
       "      <td>0.001045</td>\n",
       "      <td>1000000</td>\n",
       "      <td>Dask</td>\n",
       "      <td>0.001045</td>\n",
       "    </tr>\n",
       "    <tr>\n",
       "      <th>2</th>\n",
       "      <td>3.143600</td>\n",
       "      <td>0.013957</td>\n",
       "      <td>-0.002007</td>\n",
       "      <td>10000</td>\n",
       "      <td>Pandas</td>\n",
       "      <td>0.002007</td>\n",
       "    </tr>\n",
       "    <tr>\n",
       "      <th>2</th>\n",
       "      <td>3.143600</td>\n",
       "      <td>0.016858</td>\n",
       "      <td>-0.002007</td>\n",
       "      <td>10000</td>\n",
       "      <td>Numpy</td>\n",
       "      <td>0.002007</td>\n",
       "    </tr>\n",
       "    <tr>\n",
       "      <th>3</th>\n",
       "      <td>3.135280</td>\n",
       "      <td>0.218996</td>\n",
       "      <td>0.006313</td>\n",
       "      <td>100000</td>\n",
       "      <td>Dask</td>\n",
       "      <td>0.006313</td>\n",
       "    </tr>\n",
       "    <tr>\n",
       "      <th>3</th>\n",
       "      <td>3.150800</td>\n",
       "      <td>0.040937</td>\n",
       "      <td>-0.009207</td>\n",
       "      <td>100000</td>\n",
       "      <td>Pandas</td>\n",
       "      <td>0.009207</td>\n",
       "    </tr>\n",
       "    <tr>\n",
       "      <th>3</th>\n",
       "      <td>3.150800</td>\n",
       "      <td>0.163332</td>\n",
       "      <td>-0.009207</td>\n",
       "      <td>100000</td>\n",
       "      <td>Numpy</td>\n",
       "      <td>0.009207</td>\n",
       "    </tr>\n",
       "    <tr>\n",
       "      <th>0</th>\n",
       "      <td>3.160000</td>\n",
       "      <td>0.000199</td>\n",
       "      <td>-0.018407</td>\n",
       "      <td>100</td>\n",
       "      <td>Numpy</td>\n",
       "      <td>0.018407</td>\n",
       "    </tr>\n",
       "    <tr>\n",
       "      <th>0</th>\n",
       "      <td>3.160000</td>\n",
       "      <td>0.006550</td>\n",
       "      <td>-0.018407</td>\n",
       "      <td>100</td>\n",
       "      <td>Pandas</td>\n",
       "      <td>0.018407</td>\n",
       "    </tr>\n",
       "    <tr>\n",
       "      <th>1</th>\n",
       "      <td>3.164000</td>\n",
       "      <td>0.002040</td>\n",
       "      <td>-0.022407</td>\n",
       "      <td>1000</td>\n",
       "      <td>Numpy</td>\n",
       "      <td>0.022407</td>\n",
       "    </tr>\n",
       "    <tr>\n",
       "      <th>1</th>\n",
       "      <td>3.164000</td>\n",
       "      <td>0.004276</td>\n",
       "      <td>-0.022407</td>\n",
       "      <td>1000</td>\n",
       "      <td>Pandas</td>\n",
       "      <td>0.022407</td>\n",
       "    </tr>\n",
       "    <tr>\n",
       "      <th>2</th>\n",
       "      <td>3.112800</td>\n",
       "      <td>0.212762</td>\n",
       "      <td>0.028793</td>\n",
       "      <td>10000</td>\n",
       "      <td>Dask</td>\n",
       "      <td>0.028793</td>\n",
       "    </tr>\n",
       "    <tr>\n",
       "      <th>1</th>\n",
       "      <td>3.048000</td>\n",
       "      <td>0.222948</td>\n",
       "      <td>0.093593</td>\n",
       "      <td>1000</td>\n",
       "      <td>Dask</td>\n",
       "      <td>0.093593</td>\n",
       "    </tr>\n",
       "    <tr>\n",
       "      <th>0</th>\n",
       "      <td>3.400000</td>\n",
       "      <td>0.246752</td>\n",
       "      <td>-0.258407</td>\n",
       "      <td>100</td>\n",
       "      <td>Dask</td>\n",
       "      <td>0.258407</td>\n",
       "    </tr>\n",
       "  </tbody>\n",
       "</table>\n",
       "</div>"
      ],
      "text/plain": [
       "      EstPi        Time     Error  SampleSize     Src  ErrorMag\n",
       "6  3.141633   45.943903 -0.000041   100000000  Pandas  0.000041\n",
       "6  3.141633  169.941635 -0.000041   100000000   Numpy  0.000041\n",
       "5  3.141657    1.082000 -0.000064    10000000    Dask  0.000064\n",
       "5  3.141510    4.486182  0.000083    10000000  Pandas  0.000083\n",
       "5  3.141510   15.583332  0.000083    10000000   Numpy  0.000083\n",
       "6  3.141800   18.954296 -0.000207   100000000    Dask  0.000207\n",
       "4  3.142340    0.373937 -0.000747     1000000  Pandas  0.000747\n",
       "4  3.142340    1.341239 -0.000747     1000000   Numpy  0.000747\n",
       "4  3.140548    0.304152  0.001045     1000000    Dask  0.001045\n",
       "2  3.143600    0.013957 -0.002007       10000  Pandas  0.002007\n",
       "2  3.143600    0.016858 -0.002007       10000   Numpy  0.002007\n",
       "3  3.135280    0.218996  0.006313      100000    Dask  0.006313\n",
       "3  3.150800    0.040937 -0.009207      100000  Pandas  0.009207\n",
       "3  3.150800    0.163332 -0.009207      100000   Numpy  0.009207\n",
       "0  3.160000    0.000199 -0.018407         100   Numpy  0.018407\n",
       "0  3.160000    0.006550 -0.018407         100  Pandas  0.018407\n",
       "1  3.164000    0.002040 -0.022407        1000   Numpy  0.022407\n",
       "1  3.164000    0.004276 -0.022407        1000  Pandas  0.022407\n",
       "2  3.112800    0.212762  0.028793       10000    Dask  0.028793\n",
       "1  3.048000    0.222948  0.093593        1000    Dask  0.093593\n",
       "0  3.400000    0.246752 -0.258407         100    Dask  0.258407"
      ]
     },
     "execution_count": 15,
     "metadata": {},
     "output_type": "execute_result"
    }
   ],
   "source": [
    "df_all.sort_values(by=['ErrorMag','Time'])"
   ]
  },
  {
   "cell_type": "code",
   "execution_count": 16,
   "metadata": {},
   "outputs": [
    {
     "data": {
      "text/plain": [
       "<matplotlib.axes._subplots.AxesSubplot at 0x124251748>"
      ]
     },
     "execution_count": 16,
     "metadata": {},
     "output_type": "execute_result"
    },
    {
     "data": {
      "image/png": "[encoded data removed]",
      "text/plain": [
       "<Figure size 864x504 with 1 Axes>"
      ]
     },
     "metadata": {
      "needs_background": "light"
     },
     "output_type": "display_data"
    }
   ],
   "source": [
    "df_all.plot.scatter(x='SampleSize',y='ErrorMag',figsize=(12,7))"
   ]
  },
  {
   "cell_type": "code",
   "execution_count": 17,
   "metadata": {},
   "outputs": [
    {
     "data": {
      "text/plain": [
       "<matplotlib.axes._subplots.AxesSubplot at 0x124494e48>"
      ]
     },
     "execution_count": 17,
     "metadata": {},
     "output_type": "execute_result"
    },
    {
     "data": {
      "image/png": "[encoded data removed]",
      "text/plain": [
       "<Figure size 864x504 with 1 Axes>"
      ]
     },
     "metadata": {
      "needs_background": "light"
     },
     "output_type": "display_data"
    }
   ],
   "source": [
    "df_all.plot.scatter(x='SampleSize',y='Time',figsize=(12,7))"
   ]
  },
  {
   "cell_type": "code",
   "execution_count": 18,
   "metadata": {},
   "outputs": [
    {
     "data": {
      "text/plain": [
       "<matplotlib.axes._subplots.AxesSubplot at 0x1241807f0>"
      ]
     },
     "execution_count": 18,
     "metadata": {},
     "output_type": "execute_result"
    },
    {
     "data": {
      "image/png": "[encoded data removed]",
      "text/plain": [
       "<Figure size 864x504 with 1 Axes>"
      ]
     },
     "metadata": {
      "needs_background": "light"
     },
     "output_type": "display_data"
    }
   ],
   "source": [
    "df_all.plot.scatter(x='Time',y='ErrorMag',figsize=(12,7))"
   ]
  },
  {
   "cell_type": "code",
   "execution_count": 19,
   "metadata": {},
   "outputs": [
    {
     "data": {
      "text/plain": [
       "<matplotlib.axes._subplots.AxesSubplot at 0x124914780>"
      ]
     },
     "execution_count": 19,
     "metadata": {},
     "output_type": "execute_result"
    },
    {
     "data": {
      "image/png": "[encoded data removed]",
      "text/plain": [
       "<Figure size 864x504 with 1 Axes>"
      ]
     },
     "metadata": {
      "needs_background": "light"
     },
     "output_type": "display_data"
    }
   ],
   "source": [
    "df_all_agg = df_all.pivot_table(index='Src',values='Time',aggfunc=sum).reset_index()\n",
    "df_all_agg.sort_values(by='Time',inplace=True)\n",
    "df_all_agg.plot.bar(x='Src',y='Time',figsize=(12,7),legend=False)"
   ]
  },
  {
   "cell_type": "code",
   "execution_count": null,
   "metadata": {},
   "outputs": [],
   "source": []
  }
 ],
 "metadata": {
  "kernelspec": {
   "display_name": "Python [conda env:Env_Anaconda]",
   "language": "python",
   "name": "conda-env-Env_Anaconda-py"
  },
  "language_info": {
   "codemirror_mode": {
    "name": "ipython",
    "version": 3
   },
   "file_extension": ".py",
   "mimetype": "text/x-python",
   "name": "python",
   "nbconvert_exporter": "python",
   "pygments_lexer": "ipython3",
   "version": "3.6.7"
  }
 },
 "nbformat": 4,
 "nbformat_minor": 2
}
